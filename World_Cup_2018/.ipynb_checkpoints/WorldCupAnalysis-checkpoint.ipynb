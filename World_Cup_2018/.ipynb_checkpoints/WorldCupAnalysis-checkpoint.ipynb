{
 "cells": [
  {
   "cell_type": "code",
   "execution_count": 73,
   "metadata": {},
   "outputs": [],
   "source": [
    "import pandas as pd\n",
    "import numpy as np\n",
    "from sklearn.preprocessing import Imputer\n",
    "from sklearn.base import BaseEstimator, TransformerMixin\n",
    "from sklearn.pipeline import Pipeline\n",
    "from sklearn.preprocessing import StandardScaler\n",
    "import category_encoders as cs\n",
    "from sklearn.pipeline import FeatureUnion"
   ]
  },
  {
   "cell_type": "code",
   "execution_count": 74,
   "metadata": {},
   "outputs": [],
   "source": [
    "worldcup=pd.read_csv(\"2018 worldcup.csv\",index_col=0)\n",
    "#match date is assumed to be irrelevant for the match results\n",
    "worldcup.drop(['Date','Team1_Ball_Possession(%)'],axis=1,inplace=True)\n",
    "#worldcup.describe()\n",
    "train_wc = worldcup[:int(len(worldcup))]\n",
    "test_wc = worldcup[int(0.8 * len(worldcup)):]\n"
   ]
  },
  {
   "cell_type": "code",
   "execution_count": 75,
   "metadata": {},
   "outputs": [],
   "source": [
    "#world cup attributes\n",
    "w_features=train_wc.iloc[:,np.arange(26)].copy()\n",
    "#world cup goal result\n",
    "w_goals=train_wc.iloc[:,26].copy()\n",
    "#wordl cup match result\n",
    "w_results=train_wc.iloc[:,27].copy()\n"
   ]
  },
  {
   "cell_type": "code",
   "execution_count": 76,
   "metadata": {},
   "outputs": [],
   "source": [
    "# Create a class to select numerical or categorical columns \n",
    "# since Scikit-Learn doesn't handle DataFrames in this wise manner yet\n",
    "class DataFrameSelector(BaseEstimator, TransformerMixin):\n",
    "    def __init__(self, attribute_names):\n",
    "        self.attribute_names = attribute_names\n",
    "    def fit(self, X, y=None):\n",
    "        return self\n",
    "    def transform(self, X):\n",
    "        return X[self.attribute_names].values"
   ]
  },
  {
   "cell_type": "code",
   "execution_count": 77,
   "metadata": {},
   "outputs": [],
   "source": [
    "def feature_process(features):\n",
    "\n",
    "    w_features_num = features.drop(['Location','Phase','Team1','Team2','Team1_Continent','Team2_Continent','Normal_Time'], axis=1,inplace=False)\n",
    "    w_features_cat= features[['Location','Phase','Team1','Team2','Team1_Continent','Team2_Continent','Normal_Time']].copy()\n",
    "\n",
    "\n",
    "    num_pipeline = Pipeline([\n",
    "            ('selector', DataFrameSelector(list(w_features_num))),\n",
    "            ('imputer', Imputer(strategy=\"median\")),\n",
    "            ('std_scaler', StandardScaler()),\n",
    "        ])\n",
    "\n",
    "    cat_pipeline = Pipeline([\n",
    "            ('selector', DataFrameSelector(list(w_features_cat))),\n",
    "            ('cat_encoder', cs.OneHotEncoder(drop_invariant=True)),\n",
    "        ])\n",
    "\n",
    "    full_pipeline = FeatureUnion(transformer_list=[\n",
    "            (\"num_pipeline\", num_pipeline),\n",
    "            (\"cat_pipeline\", cat_pipeline),\n",
    "        ])\n",
    "    return full_pipeline"
   ]
  },
  {
   "cell_type": "code",
   "execution_count": 78,
   "metadata": {},
   "outputs": [],
   "source": [
    "full_pipeline = feature_process(w_features)\n",
    "\n",
    "feature_prepared = pd.DataFrame(data=full_pipeline.fit_transform(w_features),index=np.arange(1,len(w_features) + 1))\n",
    "\n",
    "worldcup_cleaned=pd.concat([feature_prepared,w_goals.to_frame(), w_results.to_frame()], axis=1)"
   ]
  },
  {
   "cell_type": "code",
   "execution_count": 92,
   "metadata": {},
   "outputs": [],
   "source": [
    "#Logistic Regression Model\n",
    "from sklearn.linear_model import LogisticRegression\n",
    "from sklearn.metrics import accuracy_score\n",
    "\n",
    "train_data = feature_prepared[:int(0.8 * len(feature_prepared))]\n",
    "test_data = feature_prepared[int(0.8 * len(feature_prepared)):]\n",
    "train_goals = w_goals[:int(0.8 * len(w_goals))]\n",
    "test_goals = w_goals[int(0.8 * len(w_goals)):]\n",
    "\n",
    "model = LogisticRegression()\n",
    "model.fit(train_data,train_goals)\n",
    "T_predict = model.predict(test_data)\n",
    "W_predict = model.predict(train_data)\n",
    "\n"
   ]
  },
  {
   "cell_type": "code",
   "execution_count": 94,
   "metadata": {},
   "outputs": [
    {
     "name": "stdout",
     "output_type": "stream",
     "text": [
      " \n",
      "_________________###################____________________\n",
      "Mean squared error for testing data: 8.23\n",
      "Variance score for testing data: -3.00\n",
      "******************************************************* \n",
      "Mean squared error for training data: 0.02\n",
      "Variance score for training data: 0.99\n"
     ]
    }
   ],
   "source": [
    "from sklearn.metrics import mean_squared_error, r2_score\n",
    "\n",
    "\n",
    "print(' ')\n",
    "# The coefficients\n",
    "#print('Coefficients and Intercept are: ', model.coef_,\"   \",model.intercept_,' respectively')\n",
    "# The mean squared error\n",
    "print('_________________###################____________________')\n",
    "print(\"Mean squared error for testing data: %.2f\"\n",
    "      % mean_squared_error(test_goals, T_predict))\n",
    "# Explained variance score: 1 is perfect prediction\n",
    "print('Variance score for testing data: %.2f' % r2_score(test_goals, T_predict))\n",
    "print('******************************************************* ')\n",
    "print(\"Mean squared error for training data: %.2f\"\n",
    "      % mean_squared_error(train_goals, W_predict))\n",
    "# Explained variance score: 1 is perfect prediction\n",
    "print('Variance score for training data: %.2f' % r2_score(train_goals, W_predict))"
   ]
  },
  {
   "cell_type": "code",
   "execution_count": 95,
   "metadata": {},
   "outputs": [],
   "source": [
    "# Linear Regression Model\n",
    "from sklearn.linear_model import LinearRegression\n",
    "\n",
    "model = LinearRegression(n_jobs = None)\n",
    "model.fit(train_data, train_goals)\n",
    "T_predict = model.predict(test_data)\n",
    "W_predict = model.predict(train_data)\n"
   ]
  },
  {
   "cell_type": "code",
   "execution_count": 97,
   "metadata": {},
   "outputs": [
    {
     "name": "stdout",
     "output_type": "stream",
     "text": [
      " \n",
      "_________________###################____________________\n",
      "Mean squared error for testing data: 5.29\n",
      "Variance score for testing data: -1.57\n",
      "******************************************************* \n",
      "Mean squared error for training data: 0.00\n",
      "Variance score for training data: 1.00\n"
     ]
    }
   ],
   "source": [
    "from sklearn.metrics import mean_squared_error, r2_score\n",
    "\n",
    "\n",
    "print(' ')\n",
    "# The coefficients\n",
    "#print('Coefficients and Intercept are: ', model.coef_,\"   \",model.intercept_,' respectively')\n",
    "# The mean squared error\n",
    "print('_________________###################____________________')\n",
    "print(\"Mean squared error for testing data: %.2f\"\n",
    "      % mean_squared_error(test_goals, T_predict))\n",
    "# Explained variance score: 1 is perfect prediction\n",
    "print('Variance score for testing data: %.2f' % r2_score(test_goals, T_predict))\n",
    "print('******************************************************* ')\n",
    "print(\"Mean squared error for training data: %.2f\"\n",
    "      % mean_squared_error(train_goals, W_predict))\n",
    "# Explained variance score: 1 is perfect prediction\n",
    "print('Variance score for training data: %.2f' % r2_score(train_goals, W_predict))\n"
   ]
  },
  {
   "cell_type": "code",
   "execution_count": null,
   "metadata": {},
   "outputs": [],
   "source": []
  }
 ],
 "metadata": {
  "kernelspec": {
   "display_name": "Python 2",
   "language": "python",
   "name": "python2"
  },
  "language_info": {
   "codemirror_mode": {
    "name": "ipython",
    "version": 2
   },
   "file_extension": ".py",
   "mimetype": "text/x-python",
   "name": "python",
   "nbconvert_exporter": "python",
   "pygments_lexer": "ipython2",
   "version": "2.7.15"
  }
 },
 "nbformat": 4,
 "nbformat_minor": 2
}
