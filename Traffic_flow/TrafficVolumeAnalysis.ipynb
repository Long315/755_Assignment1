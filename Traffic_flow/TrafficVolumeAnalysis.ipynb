{
 "cells": [
  {
   "cell_type": "code",
   "execution_count": 1,
   "metadata": {},
   "outputs": [],
   "source": [
    "import pandas as pd\n",
    "import numpy as np\n",
    "from sklearn.preprocessing import Imputer\n",
    "from sklearn.base import BaseEstimator, TransformerMixin\n",
    "from sklearn.pipeline import Pipeline\n",
    "from sklearn.preprocessing import StandardScaler\n",
    "import category_encoders as cs\n",
    "from sklearn.pipeline import FeatureUnion"
   ]
  },
  {
   "cell_type": "code",
   "execution_count": 28,
   "metadata": {},
   "outputs": [
    {
     "data": {
      "text/plain": [
       "449"
      ]
     },
     "execution_count": 28,
     "metadata": {},
     "output_type": "execute_result"
    }
   ],
   "source": [
    "trafficVolum = pd.read_csv(\"traffic_flow_data.csv\",index_col=0)\n",
    "#trafficVolum.describe()\n",
    "target_data = trafficVolum.loc[:,\"Segment23_(t+1)\"] \n",
    "len(trafficVolum.columns)\n",
    "#world cup attributes\n",
    "w_features=trafficVolum.iloc[:,np.arange(449)].copy()\n",
    "#world cup goal result\n",
    "w_target=trafficVolum.iloc[:,449].copy()\n"
   ]
  },
  {
   "cell_type": "code",
   "execution_count": 31,
   "metadata": {},
   "outputs": [],
   "source": [
    "# Create a class to select numerical or categorical columns \n",
    "# since Scikit-Learn doesn't handle DataFrames in this wise manner yet\n",
    "class DataFrameSelector(BaseEstimator, TransformerMixin):\n",
    "    def __init__(self, attribute_names):\n",
    "        self.attribute_names = attribute_names\n",
    "    def fit(self, X, y=None):\n",
    "        return self\n",
    "    def transform(self, X):\n",
    "        return X[self.attribute_names].values\n",
    "\n",
    "def feature_process(features):\n",
    "\n",
    "    w_features_num = features;\n",
    "\n",
    "    num_pipeline = Pipeline([\n",
    "            ('selector', DataFrameSelector(list(w_features_num))),\n",
    "            ('imputer', Imputer(strategy=\"median\")),\n",
    "            ('std_scaler', StandardScaler(with_mean = False)),\n",
    "        ])\n",
    "\n",
    "    full_pipeline = num_pipeline\n",
    "    return full_pipeline"
   ]
  },
  {
   "cell_type": "code",
   "execution_count": 32,
   "metadata": {},
   "outputs": [],
   "source": [
    "full_pipeline = feature_process(w_features)\n",
    "\n",
    "feature_prepared = pd.DataFrame(data=full_pipeline.fit_transform(w_features),index=np.arange(1,len(w_features) + 1))\n",
    "\n",
    "train_data = feature_prepared[:int(0.8 * len(feature_prepared))]\n",
    "test_data = feature_prepared[int(0.8 * len(feature_prepared)):]\n",
    "train_results = w_target[:int(0.8 * len(w_target))]\n",
    "test_results = w_target[int(0.8 * len(w_target)):]"
   ]
  },
  {
   "cell_type": "code",
   "execution_count": 37,
   "metadata": {},
   "outputs": [
    {
     "name": "stdout",
     "output_type": "stream",
     "text": [
      "Fitting 3 folds for each of 12 candidates, totalling 36 fits\n"
     ]
    },
    {
     "name": "stderr",
     "output_type": "stream",
     "text": [
      "[Parallel(n_jobs=-1)]: Done  36 out of  36 | elapsed:   13.6s finished\n"
     ]
    },
    {
     "name": "stdout",
     "output_type": "stream",
     "text": [
      "DecisionTreeClassifier(class_weight=None, criterion='gini', max_depth=None,\n",
      "            max_features=None, max_leaf_nodes=4, min_impurity_decrease=0.0,\n",
      "            min_impurity_split=None, min_samples_leaf=1,\n",
      "            min_samples_split=2, min_weight_fraction_leaf=0.0,\n",
      "            presort=False, random_state=42, splitter='best')\n",
      "The prediction accuracy using the decision tree is : 0.87%.\n"
     ]
    }
   ],
   "source": [
    "# Decision Trees ?\n",
    "from sklearn.tree import DecisionTreeClassifier\n",
    "from sklearn.model_selection import GridSearchCV\n",
    "from sklearn.metrics import accuracy_score\n",
    "\n",
    "\n",
    "params = {'max_leaf_nodes': list(range(2, 5)), 'min_samples_split': [2,3,4,5]}\n",
    "grid_search_cv = GridSearchCV(DecisionTreeClassifier(random_state=42), params, n_jobs=-1, verbose=1)\n",
    "grid_search_cv.fit(train_data, train_results)\n",
    "print grid_search_cv.best_estimator_\n",
    "\n",
    "T_predict = grid_search_cv.predict(test_data)\n",
    "print(\"The prediction accuracy using the decision tree is : {:.2f}%.\".format(100*accuracy_score(test_results, T_predict)))\n",
    "\n"
   ]
  },
  {
   "cell_type": "code",
   "execution_count": 41,
   "metadata": {},
   "outputs": [
    {
     "name": "stdout",
     "output_type": "stream",
     "text": [
      "LogisticRegression(C=1.0, class_weight=None, dual=False, fit_intercept=True,\n",
      "          intercept_scaling=1, max_iter=3, multi_class='ovr', n_jobs=1,\n",
      "          penalty='l2', random_state=None, solver='liblinear', tol=0.0001,\n",
      "          verbose=0, warm_start=False)\n"
     ]
    }
   ],
   "source": [
    "#Logistic Regression Model\n",
    "from sklearn.linear_model import LogisticRegression\n",
    "\n",
    "model = LogisticRegression(max_iter = 3)\n",
    "model.fit(train_data,train_results)\n",
    "T_predict = model.predict(test_data)\n",
    "W_predict = model.predict(train_data)\n",
    "\n",
    "print model"
   ]
  },
  {
   "cell_type": "code",
   "execution_count": 46,
   "metadata": {},
   "outputs": [
    {
     "name": "stdout",
     "output_type": "stream",
     "text": [
      " \n",
      "_________________###################____________________\n",
      "Mean squared error for testing data: 78420.84\n",
      "Variance score for testing data: -1.17\n",
      "******************************************************* \n",
      "Mean squared error for training data: 73602.48\n",
      "Variance score for training data: -0.83\n"
     ]
    }
   ],
   "source": [
    "from sklearn.metrics import mean_squared_error, r2_score\n",
    "\n",
    "\n",
    "print(' ')\n",
    "# The coefficients\n",
    "#print('Coefficients and Intercept are: ', model.coef_,\"   \",model.intercept_,' respectively')\n",
    "# The mean squared error\n",
    "print('_________________###################____________________')\n",
    "print(\"Mean squared error for testing data: %.2f\"\n",
    "      % mean_squared_error(test_results, T_predict))\n",
    "# Explained variance score: 1 is perfect prediction\n",
    "print('Variance score for testing data: %.2f' % r2_score(test_results, T_predict))\n",
    "print('******************************************************* ')\n",
    "print(\"Mean squared error for training data: %.2f\"\n",
    "      % mean_squared_error(train_results, W_predict))\n",
    "# Explained variance score: 1 is perfect prediction\n",
    "print('Variance score for training data: %.2f' % r2_score(train_results, W_predict))"
   ]
  },
  {
   "cell_type": "code",
   "execution_count": 47,
   "metadata": {},
   "outputs": [
    {
     "name": "stdout",
     "output_type": "stream",
     "text": [
      "Ridge(alpha=1.0, copy_X=True, fit_intercept=True, max_iter=None,\n",
      "   normalize=False, random_state=None, solver='auto', tol=0.001)\n"
     ]
    }
   ],
   "source": [
    "# Linear Ridge Regression\n",
    "from sklearn.linear_model import Ridge\n",
    "\n",
    "model = Ridge(alpha=1.0)\n",
    "model.fit(train_data, train_results)\n",
    "T_predict = model.predict(test_data)\n",
    "W_predict = model.predict(train_data)\n",
    "print model"
   ]
  },
  {
   "cell_type": "code",
   "execution_count": 48,
   "metadata": {},
   "outputs": [
    {
     "name": "stdout",
     "output_type": "stream",
     "text": [
      " \n",
      "_________________###################____________________\n",
      "Mean squared error for testing data: 834.91\n",
      "Variance score for testing data: 0.98\n",
      "******************************************************* \n",
      "Mean squared error for training data: 1127.08\n",
      "Variance score for training data: 0.97\n"
     ]
    }
   ],
   "source": [
    "print(' ')\n",
    "# The coefficients\n",
    "#print('Coefficients and Intercept are: ', model.coef_,\"   \",model.intercept_,' respectively')\n",
    "# The mean squared error\n",
    "print('_________________###################____________________')\n",
    "print(\"Mean squared error for testing data: %.2f\"\n",
    "      % mean_squared_error(test_results, T_predict))\n",
    "# Explained variance score: 1 is perfect prediction\n",
    "print('Variance score for testing data: %.2f' % r2_score(test_results, T_predict))\n",
    "print('******************************************************* ')\n",
    "print(\"Mean squared error for training data: %.2f\"\n",
    "      % mean_squared_error(train_results, W_predict))\n",
    "# Explained variance score: 1 is perfect prediction\n",
    "print('Variance score for training data: %.2f' % r2_score(train_results, W_predict))"
   ]
  },
  {
   "cell_type": "code",
   "execution_count": 50,
   "metadata": {},
   "outputs": [
    {
     "name": "stdout",
     "output_type": "stream",
     "text": [
      "LinearRegression(copy_X=True, fit_intercept=True, n_jobs=None,\n",
      "         normalize=False)\n"
     ]
    }
   ],
   "source": [
    "# Linear Regression Model\n",
    "from sklearn.linear_model import LinearRegression\n",
    "\n",
    "model = LinearRegression(n_jobs = None)\n",
    "model.fit(train_data, train_results)\n",
    "T_predict = model.predict(test_data)\n",
    "W_predict = model.predict(train_data)\n",
    "print model"
   ]
  },
  {
   "cell_type": "code",
   "execution_count": 51,
   "metadata": {},
   "outputs": [
    {
     "name": "stdout",
     "output_type": "stream",
     "text": [
      " \n",
      "_________________###################____________________\n",
      "Mean squared error for testing data: 843.81\n",
      "Variance score for testing data: 0.98\n",
      "******************************************************* \n",
      "Mean squared error for training data: 1123.80\n",
      "Variance score for training data: 0.97\n"
     ]
    }
   ],
   "source": [
    "print(' ')\n",
    "# The coefficients\n",
    "#print('Coefficients and Intercept are: ', model.coef_,\"   \",model.intercept_,' respectively')\n",
    "# The mean squared error\n",
    "print('_________________###################____________________')\n",
    "print(\"Mean squared error for testing data: %.2f\"\n",
    "      % mean_squared_error(test_results, T_predict))\n",
    "# Explained variance score: 1 is perfect prediction\n",
    "print('Variance score for testing data: %.2f' % r2_score(test_results, T_predict))\n",
    "print('******************************************************* ')\n",
    "print(\"Mean squared error for training data: %.2f\"\n",
    "      % mean_squared_error(train_results, W_predict))\n",
    "# Explained variance score: 1 is perfect prediction\n",
    "print('Variance score for training data: %.2f' % r2_score(train_results, W_predict))"
   ]
  },
  {
   "cell_type": "code",
   "execution_count": null,
   "metadata": {},
   "outputs": [],
   "source": []
  }
 ],
 "metadata": {
  "kernelspec": {
   "display_name": "Python 2",
   "language": "python",
   "name": "python2"
  },
  "language_info": {
   "codemirror_mode": {
    "name": "ipython",
    "version": 2
   },
   "file_extension": ".py",
   "mimetype": "text/x-python",
   "name": "python",
   "nbconvert_exporter": "python",
   "pygments_lexer": "ipython2",
   "version": "2.7.15"
  }
 },
 "nbformat": 4,
 "nbformat_minor": 2
}
