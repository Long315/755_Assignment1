{
 "cells": [
  {
   "cell_type": "code",
   "execution_count": 28,
   "metadata": {},
   "outputs": [],
   "source": [
    "import pandas as pd\n",
    "import numpy as np\n",
    "from sklearn.preprocessing import Imputer\n",
    "from sklearn.base import BaseEstimator, TransformerMixin\n",
    "from sklearn.pipeline import Pipeline\n",
    "from sklearn.preprocessing import StandardScaler\n",
    "import category_encoders as cs\n",
    "from sklearn.pipeline import FeatureUnion\n",
    "from sklearn.metrics import roc_auc_score"
   ]
  },
  {
   "cell_type": "code",
   "execution_count": 29,
   "metadata": {},
   "outputs": [
    {
     "data": {
      "text/plain": [
       "Index([u'Temperature', u'Humidity', u'Light', u'CO2', u'HumidityRatio'], dtype='object')"
      ]
     },
     "execution_count": 29,
     "metadata": {},
     "output_type": "execute_result"
    }
   ],
   "source": [
    "OccupancyData = pd.read_csv(\"occupancy_sensor_data.csv\",index_col=0)\n",
    "\n",
    "w_features=OccupancyData.loc[:,[\"Temperature\",\"Humidity\",\"Light\",\"CO2\",\"HumidityRatio\"]].copy()\n",
    "w_target=OccupancyData.loc[:,\"Occupancy\"].copy()\n",
    "\n",
    "w_features.columns"
   ]
  },
  {
   "cell_type": "code",
   "execution_count": 30,
   "metadata": {},
   "outputs": [],
   "source": [
    "# Create a class to select numerical or categorical columns \n",
    "# since Scikit-Learn doesn't handle DataFrames in this wise manner yet\n",
    "class DataFrameSelector(BaseEstimator, TransformerMixin):\n",
    "    def __init__(self, attribute_names):\n",
    "        self.attribute_names = attribute_names\n",
    "    def fit(self, X, y=None):\n",
    "        return self\n",
    "    def transform(self, X):\n",
    "        return X[self.attribute_names].values\n",
    "\n",
    "def feature_process(features):\n",
    "\n",
    "    w_features_num = features;\n",
    "\n",
    "    num_pipeline = Pipeline([\n",
    "            ('selector', DataFrameSelector(list(w_features_num))),\n",
    "            ('imputer', Imputer(strategy=\"median\")),\n",
    "            ('std_scaler', StandardScaler(with_mean = False)),\n",
    "        ])\n",
    "\n",
    "    full_pipeline = num_pipeline\n",
    "    return full_pipeline"
   ]
  },
  {
   "cell_type": "code",
   "execution_count": 31,
   "metadata": {},
   "outputs": [],
   "source": [
    "full_pipeline = feature_process(w_features)\n",
    "\n",
    "feature_prepared = pd.DataFrame(data=full_pipeline.fit_transform(w_features),index=np.arange(1,len(w_features) + 1))\n",
    "\n",
    "train_data = feature_prepared[:int(0.8 * len(feature_prepared))]\n",
    "test_data = feature_prepared[int(0.8 * len(feature_prepared)):]\n",
    "train_results = w_target[:int(0.8 * len(w_target))]\n",
    "test_results = w_target[int(0.8 * len(w_target)):]"
   ]
  },
  {
   "cell_type": "code",
   "execution_count": 44,
   "metadata": {},
   "outputs": [
    {
     "name": "stdout",
     "output_type": "stream",
     "text": [
      "Fitting 3 folds for each of 12 candidates, totalling 36 fits\n",
      "DecisionTreeClassifier(class_weight=None, criterion='gini', max_depth=None,\n",
      "            max_features=None, max_leaf_nodes=4, min_impurity_decrease=0.0,\n",
      "            min_impurity_split=None, min_samples_leaf=1,\n",
      "            min_samples_split=2, min_weight_fraction_leaf=0.0,\n",
      "            presort=False, random_state=42, splitter='best')\n",
      "[[0.00752351 0.99247649]\n",
      " [0.00752351 0.99247649]\n",
      " [0.00752351 0.99247649]\n",
      " ...\n",
      " [0.99801607 0.00198393]\n",
      " [0.99801607 0.00198393]\n",
      " [0.99801607 0.00198393]]\n",
      "_________________###################____________________\n",
      "The prediction accuracy using the decision tree is : 99.56%.\n",
      "******************************************************* \n",
      "The area under the ROC score using the decision tree is : 1.00.\n",
      "&&&&&&&&&&&&&&&&&&&&&&&&&&&&&&&&&&&&&&&&&&&&&&&&&&&&&&&&&& \n"
     ]
    },
    {
     "name": "stderr",
     "output_type": "stream",
     "text": [
      "[Parallel(n_jobs=-1)]: Done  36 out of  36 | elapsed:    0.6s finished\n"
     ]
    },
    {
     "data": {
      "text/html": [
       "<div>\n",
       "<style scoped>\n",
       "    .dataframe tbody tr th:only-of-type {\n",
       "        vertical-align: middle;\n",
       "    }\n",
       "\n",
       "    .dataframe tbody tr th {\n",
       "        vertical-align: top;\n",
       "    }\n",
       "\n",
       "    .dataframe thead th {\n",
       "        text-align: right;\n",
       "    }\n",
       "</style>\n",
       "<table border=\"1\" class=\"dataframe\">\n",
       "  <thead>\n",
       "    <tr style=\"text-align: right;\">\n",
       "      <th></th>\n",
       "      <th>Feature</th>\n",
       "      <th>Importance</th>\n",
       "    </tr>\n",
       "  </thead>\n",
       "  <tbody>\n",
       "    <tr>\n",
       "      <th>0</th>\n",
       "      <td>Light</td>\n",
       "      <td>0.995019</td>\n",
       "    </tr>\n",
       "    <tr>\n",
       "      <th>1</th>\n",
       "      <td>CO2</td>\n",
       "      <td>0.003514</td>\n",
       "    </tr>\n",
       "    <tr>\n",
       "      <th>2</th>\n",
       "      <td>Humidity</td>\n",
       "      <td>0.001467</td>\n",
       "    </tr>\n",
       "    <tr>\n",
       "      <th>3</th>\n",
       "      <td>Temperature</td>\n",
       "      <td>0.000000</td>\n",
       "    </tr>\n",
       "    <tr>\n",
       "      <th>4</th>\n",
       "      <td>HumidityRatio</td>\n",
       "      <td>0.000000</td>\n",
       "    </tr>\n",
       "  </tbody>\n",
       "</table>\n",
       "</div>"
      ],
      "text/plain": [
       "         Feature  Importance\n",
       "0          Light    0.995019\n",
       "1            CO2    0.003514\n",
       "2       Humidity    0.001467\n",
       "3    Temperature    0.000000\n",
       "4  HumidityRatio    0.000000"
      ]
     },
     "execution_count": 44,
     "metadata": {},
     "output_type": "execute_result"
    }
   ],
   "source": [
    "# Decision Trees Classifier\n",
    "from sklearn.tree import DecisionTreeClassifier\n",
    "from sklearn.model_selection import GridSearchCV\n",
    "from sklearn.metrics import accuracy_score\n",
    "\n",
    "\n",
    "params = {'max_leaf_nodes': list(range(2, 5)), 'min_samples_split': [2,3,4,5]}\n",
    "grid_search_cv = GridSearchCV(DecisionTreeClassifier(random_state=42), params, n_jobs=-1, verbose=1)\n",
    "grid_search_cv.fit(train_data, train_results)\n",
    "print grid_search_cv.best_estimator_\n",
    "\n",
    "T_predict = grid_search_cv.predict(test_data)\n",
    "T_predict_prop = grid_search_cv.predict_proba(test_data)\n",
    "\n",
    "print('_________________###################____________________')\n",
    "print(\"The prediction accuracy using the decision tree is : {:.2f}%.\".format(100*accuracy_score(test_results, T_predict)))\n",
    "print('******************************************************* ')\n",
    "# Area under the ROC score: 1 is perfect prediction\n",
    "print(\"The area under the ROC score using the decision tree is : {:.2f}.\".format(roc_auc_score(test_results,T_predict_prop[:,1]))) \n",
    "print('&&&&&&&&&&&&&&&&&&&&&&&&&&&&&&&&&&&&&&&&&&&&&&&&&&&&&&&&&& ')\n",
    "fi1 = zip(w_features.columns, grid_search_cv.best_estimator_.feature_importances_)\n",
    "fi1.sort(key = lambda x:-x[1])\n",
    "pd.DataFrame(fi1, columns=[\"Feature\",\"Importance\"])\n"
   ]
  },
  {
   "cell_type": "code",
   "execution_count": 39,
   "metadata": {},
   "outputs": [
    {
     "name": "stdout",
     "output_type": "stream",
     "text": [
      "Fitting 3 folds for each of 294 candidates, totalling 882 fits\n"
     ]
    },
    {
     "name": "stderr",
     "output_type": "stream",
     "text": [
      "[Parallel(n_jobs=-1)]: Done  76 tasks      | elapsed:    3.3s\n",
      "[Parallel(n_jobs=-1)]: Done 376 tasks      | elapsed:   17.3s\n"
     ]
    },
    {
     "name": "stdout",
     "output_type": "stream",
     "text": [
      "RandomForestClassifier(bootstrap=True, class_weight=None, criterion='gini',\n",
      "            max_depth=None, max_features='auto', max_leaf_nodes=7,\n",
      "            min_impurity_decrease=0.0, min_impurity_split=None,\n",
      "            min_samples_leaf=1, min_samples_split=2,\n",
      "            min_weight_fraction_leaf=0.0, n_estimators=10, n_jobs=1,\n",
      "            oob_score=False, random_state=42, verbose=0, warm_start=False)\n",
      "_________________###################____________________\n",
      "The prediction accuracy using the Random Forest is : 99.56%.\n",
      "******************************************************* \n",
      "The area under the ROC score using the Random Forest is : 0.99.\n",
      "&&&&&&&&&&&&&&&&&&&&&&&&&&&&&&&&&&&&&&&&&&&&&&&&&&&&&&&&&& \n"
     ]
    },
    {
     "name": "stderr",
     "output_type": "stream",
     "text": [
      "[Parallel(n_jobs=-1)]: Done 882 out of 882 | elapsed:   44.2s finished\n"
     ]
    },
    {
     "data": {
      "text/html": [
       "<div>\n",
       "<style scoped>\n",
       "    .dataframe tbody tr th:only-of-type {\n",
       "        vertical-align: middle;\n",
       "    }\n",
       "\n",
       "    .dataframe tbody tr th {\n",
       "        vertical-align: top;\n",
       "    }\n",
       "\n",
       "    .dataframe thead th {\n",
       "        text-align: right;\n",
       "    }\n",
       "</style>\n",
       "<table border=\"1\" class=\"dataframe\">\n",
       "  <thead>\n",
       "    <tr style=\"text-align: right;\">\n",
       "      <th></th>\n",
       "      <th>Feature</th>\n",
       "      <th>Importance</th>\n",
       "    </tr>\n",
       "  </thead>\n",
       "  <tbody>\n",
       "    <tr>\n",
       "      <th>0</th>\n",
       "      <td>Light</td>\n",
       "      <td>0.620348</td>\n",
       "    </tr>\n",
       "    <tr>\n",
       "      <th>1</th>\n",
       "      <td>Temperature</td>\n",
       "      <td>0.196150</td>\n",
       "    </tr>\n",
       "    <tr>\n",
       "      <th>2</th>\n",
       "      <td>CO2</td>\n",
       "      <td>0.166454</td>\n",
       "    </tr>\n",
       "    <tr>\n",
       "      <th>3</th>\n",
       "      <td>Humidity</td>\n",
       "      <td>0.011278</td>\n",
       "    </tr>\n",
       "    <tr>\n",
       "      <th>4</th>\n",
       "      <td>HumidityRatio</td>\n",
       "      <td>0.005770</td>\n",
       "    </tr>\n",
       "  </tbody>\n",
       "</table>\n",
       "</div>"
      ],
      "text/plain": [
       "         Feature  Importance\n",
       "0          Light    0.620348\n",
       "1    Temperature    0.196150\n",
       "2            CO2    0.166454\n",
       "3       Humidity    0.011278\n",
       "4  HumidityRatio    0.005770"
      ]
     },
     "execution_count": 39,
     "metadata": {},
     "output_type": "execute_result"
    }
   ],
   "source": [
    "#Random Forest\n",
    "\n",
    "from sklearn.ensemble import RandomForestClassifier\n",
    "\n",
    "params = {'max_leaf_nodes': list(range(2, 100)), 'min_samples_split': [2, 3, 4]}\n",
    "grid_search_cv = GridSearchCV(RandomForestClassifier(random_state=42), params, n_jobs=-1, verbose=1)\n",
    "grid_search_cv.fit(train_data, train_results)\n",
    "print grid_search_cv.best_estimator_\n",
    "\n",
    "T_predict = grid_search_cv.predict(test_data)\n",
    "T_predict_prop = grid_search_cv.predict_proba(test_data)\n",
    "print('_________________###################____________________')\n",
    "print(\"The prediction accuracy using the Random Forest is : {:.2f}%.\".format(100*accuracy_score(test_results, T_predict)))\n",
    "print('******************************************************* ')\n",
    "# Area under the ROC score: 1 is perfect prediction\n",
    "print(\"The area under the ROC score using the Random Forest is : {:.2f}.\".format(roc_auc_score(test_results,T_predict_prop[:,1]))) \n",
    "print('&&&&&&&&&&&&&&&&&&&&&&&&&&&&&&&&&&&&&&&&&&&&&&&&&&&&&&&&&& ')\n",
    "fi1 = zip(w_features.columns, grid_search_cv.best_estimator_.feature_importances_)\n",
    "fi1.sort(key = lambda x:-x[1])\n",
    "pd.DataFrame(fi1, columns=[\"Feature\",\"Importance\"])"
   ]
  },
  {
   "cell_type": "code",
   "execution_count": 40,
   "metadata": {},
   "outputs": [
    {
     "name": "stdout",
     "output_type": "stream",
     "text": [
      "MultinomialNB(alpha=1.0, class_prior=None, fit_prior=True)\n",
      "_________________###################____________________\n",
      "The prediction accuracy using the Naive Bayes is : 97.14%.\n",
      "******************************************************* \n",
      "The area under the ROC score using the Navie Bayes is : 0.99.\n",
      "&&&&&&&&&&&&&&&&&&&&&&&&&&&&&&&&&&&&&&&&&&&&&&&&&&&&&&&&&& \n"
     ]
    }
   ],
   "source": [
    "# Naive Bayes\n",
    "from sklearn.naive_bayes import MultinomialNB\n",
    "model = MultinomialNB()\n",
    "model.fit(train_data, train_results)\n",
    "MultinomialNB(alpha=1.0, class_prior=None, fit_prior=True)\n",
    "\n",
    "T_predict = model.predict(test_data)\n",
    "T_predict_prop = grid_search_cv.predict_proba(test_data)\n",
    "print model\n",
    "print('_________________###################____________________')\n",
    "print(\"The prediction accuracy using the Naive Bayes is : {:.2f}%.\".format(100*accuracy_score(test_results, T_predict)))\n",
    "print('******************************************************* ')\n",
    "# Area under the ROC score: 1 is perfect prediction\n",
    "print(\"The area under the ROC score using the Navie Bayes is : {:.2f}.\".format(roc_auc_score(test_results,T_predict_prop[:,1]))) \n",
    "print('&&&&&&&&&&&&&&&&&&&&&&&&&&&&&&&&&&&&&&&&&&&&&&&&&&&&&&&&&& ')"
   ]
  },
  {
   "cell_type": "code",
   "execution_count": 41,
   "metadata": {},
   "outputs": [
    {
     "name": "stdout",
     "output_type": "stream",
     "text": [
      "Perceptron(alpha=1, class_weight=None, eta0=1.0, fit_intercept=True,\n",
      "      max_iter=None, n_iter=None, n_jobs=1, penalty=None, random_state=0,\n",
      "      shuffle=True, tol=None, verbose=0, warm_start=False)\n",
      "_________________###################____________________\n",
      "The prediction accuracy using the Perception is : 99.65%.\n",
      "******************************************************* \n",
      "The area under the ROC score using the Perception is : 0.99.\n",
      "&&&&&&&&&&&&&&&&&&&&&&&&&&&&&&&&&&&&&&&&&&&&&&&&&&&&&&&&&& \n"
     ]
    }
   ],
   "source": [
    "# Perception \n",
    "from sklearn.linear_model import Perceptron\n",
    "\n",
    "model = Perceptron(alpha=1)\n",
    "model.fit(train_data, train_results)\n",
    "\n",
    "T_predict = model.predict(test_data)\n",
    "T_predict_prop = grid_search_cv.predict_proba(test_data)\n",
    "print model\n",
    "print('_________________###################____________________')\n",
    "print(\"The prediction accuracy using the Perception is : {:.2f}%.\".format(100*accuracy_score(test_results, T_predict)))\n",
    "print('******************************************************* ')\n",
    "# Area under the ROC score: 1 is perfect prediction\n",
    "print(\"The area under the ROC score using the Perception is : {:.2f}.\".format(roc_auc_score(test_results,T_predict_prop[:,1]))) \n",
    "print('&&&&&&&&&&&&&&&&&&&&&&&&&&&&&&&&&&&&&&&&&&&&&&&&&&&&&&&&&& ')"
   ]
  },
  {
   "cell_type": "code",
   "execution_count": 42,
   "metadata": {},
   "outputs": [
    {
     "name": "stdout",
     "output_type": "stream",
     "text": [
      "Fitting 3 folds for each of 320 candidates, totalling 960 fits\n"
     ]
    },
    {
     "name": "stderr",
     "output_type": "stream",
     "text": [
      "[Parallel(n_jobs=-1)]: Done  42 tasks      | elapsed:    2.8s\n",
      "[Parallel(n_jobs=-1)]: Done 192 tasks      | elapsed:   13.1s\n",
      "[Parallel(n_jobs=-1)]: Done 442 tasks      | elapsed:   28.3s\n",
      "[Parallel(n_jobs=-1)]: Done 792 tasks      | elapsed:   49.6s\n",
      "[Parallel(n_jobs=-1)]: Done 960 out of 960 | elapsed:  1.0min finished\n"
     ]
    },
    {
     "name": "stdout",
     "output_type": "stream",
     "text": [
      "KNeighborsClassifier(algorithm='auto', leaf_size=10, metric='minkowski',\n",
      "           metric_params=None, n_jobs=1, n_neighbors=9, p=2,\n",
      "           weights='uniform')\n",
      "_________________###################____________________\n",
      "The prediction accuracy using the Nearest Neighbour Classifer is : 95.30%.\n",
      "******************************************************* \n",
      "The area under the ROC score using Nearest Neighbour Classifer is : 0.98.\n",
      "&&&&&&&&&&&&&&&&&&&&&&&&&&&&&&&&&&&&&&&&&&&&&&&&&&&&&&&&&& \n"
     ]
    }
   ],
   "source": [
    "# Nearest Neighbour Classifer\n",
    "\n",
    "from sklearn.neighbors import KNeighborsClassifier\n",
    "\n",
    "\n",
    "params = {'leaf_size': list(range(10, 50)), 'n_neighbors': [2, 3, 4, 5, 6, 7, 8, 9]}\n",
    "grid_search_cv = GridSearchCV(KNeighborsClassifier(), params, n_jobs=-1, verbose=1)\n",
    "grid_search_cv.fit(train_data, train_results)\n",
    "print grid_search_cv.best_estimator_\n",
    "\n",
    "\n",
    "T_predict = grid_search_cv.predict(test_data)\n",
    "T_predict_prop = grid_search_cv.predict_proba(test_data)\n",
    "print('_________________###################____________________')\n",
    "print(\"The prediction accuracy using the Nearest Neighbour Classifer is : {:.2f}%.\".format(100*accuracy_score(test_results, T_predict)))\n",
    "print('******************************************************* ')\n",
    "# Area under the ROC score: 1 is perfect prediction\n",
    "print(\"The area under the ROC score using Nearest Neighbour Classifer is : {:.2f}.\".format(roc_auc_score(test_results,T_predict_prop[:,1]))) \n",
    "print('&&&&&&&&&&&&&&&&&&&&&&&&&&&&&&&&&&&&&&&&&&&&&&&&&&&&&&&&&& ')"
   ]
  },
  {
   "cell_type": "code",
   "execution_count": 43,
   "metadata": {},
   "outputs": [
    {
     "name": "stdout",
     "output_type": "stream",
     "text": [
      "Fitting 3 folds for each of 6 candidates, totalling 18 fits\n",
      "[CV] kernel=rbf, C=1 .................................................\n",
      "[CV] ............ kernel=rbf, C=1, score=0.985983355234, total=   0.2s\n",
      "[CV] kernel=rbf, C=1 .................................................\n"
     ]
    },
    {
     "name": "stderr",
     "output_type": "stream",
     "text": [
      "[Parallel(n_jobs=1)]: Done   1 out of   1 | elapsed:    0.2s remaining:    0.0s\n"
     ]
    },
    {
     "name": "stdout",
     "output_type": "stream",
     "text": [
      "[CV] ............ kernel=rbf, C=1, score=0.986199342826, total=   0.2s\n",
      "[CV] kernel=rbf, C=1 .................................................\n"
     ]
    },
    {
     "name": "stderr",
     "output_type": "stream",
     "text": [
      "[Parallel(n_jobs=1)]: Done   2 out of   2 | elapsed:    0.4s remaining:    0.0s\n"
     ]
    },
    {
     "name": "stdout",
     "output_type": "stream",
     "text": [
      "[CV] ............ kernel=rbf, C=1, score=0.989047097481, total=   0.2s\n",
      "[CV] kernel=rbf, C=2 .................................................\n",
      "[CV] ............ kernel=rbf, C=2, score=0.985983355234, total=   0.2s\n",
      "[CV] kernel=rbf, C=2 .................................................\n",
      "[CV] ............ kernel=rbf, C=2, score=0.986199342826, total=   0.1s\n",
      "[CV] kernel=rbf, C=2 .................................................\n",
      "[CV] ............ kernel=rbf, C=2, score=0.989047097481, total=   0.1s\n",
      "[CV] kernel=rbf, C=4 .................................................\n",
      "[CV] ............ kernel=rbf, C=4, score=0.986202365309, total=   0.1s\n",
      "[CV] kernel=rbf, C=4 .................................................\n",
      "[CV] ............ kernel=rbf, C=4, score=0.986199342826, total=   0.2s\n",
      "[CV] kernel=rbf, C=4 .................................................\n",
      "[CV] ............ kernel=rbf, C=4, score=0.989266155531, total=   0.2s\n",
      "[CV] kernel=rbf, C=8 .................................................\n",
      "[CV] ............ kernel=rbf, C=8, score=0.986202365309, total=   0.1s\n",
      "[CV] kernel=rbf, C=8 .................................................\n",
      "[CV] ............ kernel=rbf, C=8, score=0.986199342826, total=   0.2s\n",
      "[CV] kernel=rbf, C=8 .................................................\n",
      "[CV] ............ kernel=rbf, C=8, score=0.989266155531, total=   0.2s\n",
      "[CV] kernel=rbf, C=16 ................................................\n",
      "[CV] ........... kernel=rbf, C=16, score=0.986202365309, total=   0.2s\n",
      "[CV] kernel=rbf, C=16 ................................................\n",
      "[CV] ........... kernel=rbf, C=16, score=0.986199342826, total=   0.2s\n",
      "[CV] kernel=rbf, C=16 ................................................\n",
      "[CV] ........... kernel=rbf, C=16, score=0.989266155531, total=   0.2s\n",
      "[CV] kernel=rbf, C=32 ................................................\n",
      "[CV] ........... kernel=rbf, C=32, score=0.985983355234, total=   0.2s\n",
      "[CV] kernel=rbf, C=32 ................................................\n",
      "[CV] ........... kernel=rbf, C=32, score=0.986199342826, total=   0.2s\n",
      "[CV] kernel=rbf, C=32 ................................................\n",
      "[CV] ........... kernel=rbf, C=32, score=0.989047097481, total=   0.2s\n"
     ]
    },
    {
     "name": "stderr",
     "output_type": "stream",
     "text": [
      "[Parallel(n_jobs=1)]: Done  18 out of  18 | elapsed:    3.8s finished\n"
     ]
    },
    {
     "name": "stdout",
     "output_type": "stream",
     "text": [
      "GridSearchCV(cv=KFold(n_splits=3, random_state=1, shuffle=True),\n",
      "       error_score='raise',\n",
      "       estimator=SVC(C=1.0, cache_size=200, class_weight=None, coef0=0.0,\n",
      "  decision_function_shape='ovr', degree=3, gamma='auto', kernel='rbf',\n",
      "  max_iter=-1, probability=False, random_state=None, shrinking=True,\n",
      "  tol=0.001, verbose=False),\n",
      "       fit_params=None, iid=True, n_jobs=1,\n",
      "       param_grid=[{'kernel': ['rbf'], 'C': [1, 2, 4, 8, 16, 32]}],\n",
      "       pre_dispatch='2*n_jobs', refit=True, return_train_score='warn',\n",
      "       scoring='accuracy', verbose=3)\n",
      "_________________###################____________________\n",
      "The prediction accuracy using the SVC is : 95.06%.\n",
      "******************************************************* \n",
      "The area under the ROC score using the SVC is : 0.98.\n",
      "&&&&&&&&&&&&&&&&&&&&&&&&&&&&&&&&&&&&&&&&&&&&&&&&&&&&&&&&&& \n"
     ]
    }
   ],
   "source": [
    "# SVC\n",
    "\n",
    "from sklearn.svm import SVC\n",
    "from sklearn.model_selection import KFold\n",
    "\n",
    "param_grid = [\n",
    "        {'kernel': ['rbf'], 'C': [ 2**x for x in range(0,6) ]},\n",
    "    ]\n",
    "inner_cv = KFold(n_splits=3, shuffle=True, random_state=1)\n",
    "grid_search = GridSearchCV(SVC(), param_grid, cv=inner_cv,  n_jobs=1, scoring='accuracy',verbose=3)\n",
    "grid_search.fit(train_data, train_results)\n",
    "clf=grid_search.best_estimator_\n",
    "\n",
    "\n",
    "T_predict = grid_search.predict(test_data)\n",
    "T_predict_prop = grid_search_cv.predict_proba(test_data)\n",
    "print grid_search\n",
    "print('_________________###################____________________')\n",
    "print(\"The prediction accuracy using the SVC is : {:.2f}%.\".format(100*accuracy_score(test_results, T_predict)))\n",
    "print('******************************************************* ')\n",
    "print(\"The area under the ROC score using the SVC is : {:.2f}.\".format(roc_auc_score(test_results,T_predict_prop[:,1]))) \n",
    "print('&&&&&&&&&&&&&&&&&&&&&&&&&&&&&&&&&&&&&&&&&&&&&&&&&&&&&&&&&& ')"
   ]
  },
  {
   "cell_type": "code",
   "execution_count": null,
   "metadata": {},
   "outputs": [],
   "source": []
  }
 ],
 "metadata": {
  "kernelspec": {
   "display_name": "Python 2",
   "language": "python",
   "name": "python2"
  },
  "language_info": {
   "codemirror_mode": {
    "name": "ipython",
    "version": 2
   },
   "file_extension": ".py",
   "mimetype": "text/x-python",
   "name": "python",
   "nbconvert_exporter": "python",
   "pygments_lexer": "ipython2",
   "version": "2.7.15"
  }
 },
 "nbformat": 4,
 "nbformat_minor": 2
}
